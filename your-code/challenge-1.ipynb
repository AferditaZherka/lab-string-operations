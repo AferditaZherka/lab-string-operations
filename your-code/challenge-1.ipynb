{
  "cells": [
    {
      "cell_type": "markdown",
      "metadata": {
        "id": "kZIjXwwk2bSY"
      },
      "source": [
        "# String Operations Lab\n",
        "\n",
        "**Before your start:**\n",
        "\n",
        "- Read the README.md file\n",
        "- Comment as much as you can and use the resources in the README.md file\n",
        "- Happy learning!"
      ]
    },
    {
      "cell_type": "code",
      "execution_count": 1,
      "metadata": {
        "id": "v82R05np2bSe"
      },
      "outputs": [],
      "source": [
        "import re"
      ]
    },
    {
      "cell_type": "markdown",
      "metadata": {
        "id": "9Vy-LEyF2bSf"
      },
      "source": [
        "# Challenge 1 - Combining Strings\n",
        "\n",
        "Combining strings is an important skill to acquire. There are multiple ways of combining strings in Python, as well as combining strings with variables. We will explore this in the first challenge. In the cell below, combine the strings in the list and add spaces between the strings (do not add a space after the last string). Insert a period after the last string."
      ]
    },
    {
      "cell_type": "code",
      "execution_count": 7,
      "metadata": {
        "colab": {
          "base_uri": "https://localhost:8080/",
          "height": 36
        },
        "id": "i0i8Fau_2bSg",
        "outputId": "97c89d81-9f5e-416a-f946-cda18d977b34"
      },
      "outputs": [
        {
          "output_type": "execute_result",
          "data": {
            "text/plain": [
              "'Durante un tiempo no estuvo segura de si su marido era su marido.'"
            ],
            "application/vnd.google.colaboratory.intrinsic+json": {
              "type": "string"
            }
          },
          "metadata": {},
          "execution_count": 7
        }
      ],
      "source": [
        "str_list = ['Durante', 'un', 'tiempo', 'no', 'estuvo', 'segura', 'de', 'si', 'su', 'marido', 'era', 'su', 'marido']\n",
        "# Your code here\n",
        "str_list = ' '.join(str_list)\n",
        "str_list += \".\"\n",
        "str_list"
      ]
    },
    {
      "cell_type": "markdown",
      "metadata": {
        "id": "0GAao0NL2bSh"
      },
      "source": [
        "In the cell below, use the list of strings to create a grocery list. Start the list with the string `Grocery list: ` and include a comma and a space between each item except for the last one. Include a period at the end. Only include foods in the list that start with the letter 'b' and ensure all foods are lower case."
      ]
    },
    {
      "cell_type": "code",
      "source": [
        "food_list = ['Bananas', 'Chocolate', 'bread', 'diapers', 'Ice Cream', 'Brownie Mix', 'broccoli']\n",
        "#Your code here:\n",
        "food_list2 = []\n",
        "for word in food_list:\n",
        "    if word.startswith(\"B\") or word.startswith(\"b\"):\n",
        "      food_list2.append(word)\n",
        "\n",
        "food_list2.insert(0,\"Grocery list:\")\n",
        "joined_string = \", \".join(food_list2)+\".\"\n",
        "joined_string2 = joined_string.lower()\n",
        "joined_string2"
      ],
      "metadata": {
        "colab": {
          "base_uri": "https://localhost:8080/",
          "height": 36
        },
        "id": "lOxJGNU1BUex",
        "outputId": "09355db7-e097-4539-d0b9-b551167e8222"
      },
      "execution_count": 66,
      "outputs": [
        {
          "output_type": "execute_result",
          "data": {
            "text/plain": [
              "'grocery list:, bananas, bread, brownie mix, broccoli.'"
            ],
            "application/vnd.google.colaboratory.intrinsic+json": {
              "type": "string"
            }
          },
          "metadata": {},
          "execution_count": 66
        }
      ]
    },
    {
      "cell_type": "markdown",
      "metadata": {
        "id": "bV6nvD0W2bSo"
      },
      "source": [
        "In the cell below, write a function that computes the area of a circle using its radius. Compute the area of the circle and insert the radius and the area between the two strings. Make sure to include spaces between the variable and the strings. \n",
        "\n",
        "Note: You can use the techniques we have learned so far or use f-strings. F-strings allow us to embed code inside strings. You can read more about f-strings [here](https://www.python.org/dev/peps/pep-0498/)."
      ]
    },
    {
      "cell_type": "code",
      "execution_count": 62,
      "metadata": {
        "colab": {
          "base_uri": "https://localhost:8080/"
        },
        "id": "BoR1bSNJ2bSp",
        "outputId": "224e9ff0-d4a2-48ae-f1af-d44aa1d48c14"
      },
      "outputs": [
        {
          "output_type": "stream",
          "name": "stdout",
          "text": [
            "Please enter the radious of a circle: 5\n",
            "The area of the circle with radius is: 78.53981633974483\n"
          ]
        }
      ],
      "source": [
        "import math\n",
        "\n",
        "string1 = \"The area of the circle with radius:\"\n",
        "string2  = \"is:\"\n",
        "radius = 4.5\n",
        "\n",
        "def area(x, pi = math.pi):\n",
        "  return pi * (x**2)\n",
        "\n",
        "x = float(input('Please enter the radious of a circle: '))   \n",
        "# Your output string here:\n",
        "print(string1.rstrip(string1[-1])+\" \"+string2,area(x))\n"
      ]
    },
    {
      "cell_type": "markdown",
      "metadata": {
        "id": "O85zmpRZ2bSq"
      },
      "source": [
        "# Challenge 2 - Splitting Strings\n",
        "\n",
        "We have first looked at combining strings into one long string. There are times where we need to do the opposite and split the string into smaller components for further analysis. \n",
        "\n",
        "In the cell below, split the string into a list of strings using the space delimiter. Count the frequency of each word in the string in a dictionary. Strip the periods, line breaks and commas from the text. Make sure to remove empty strings from your dictionary."
      ]
    },
    {
      "cell_type": "code",
      "execution_count": 79,
      "metadata": {
        "colab": {
          "base_uri": "https://localhost:8080/"
        },
        "id": "Yyx9bMaj2bSr",
        "outputId": "eb133cc1-a7e2-4238-9006-ca9f6e9de9c2"
      },
      "outputs": [
        {
          "output_type": "stream",
          "name": "stdout",
          "text": [
            "some : 2 \n",
            "say : 3 \n",
            "the : 1 \n",
            "world : 1 \n",
            "will : 1 \n",
            "end : 1 \n",
            "in : 2 \n",
            "fire, : 1 \n",
            "ice. : 1 \n",
            "from : 1 \n",
            "what : 1 \n",
            "i’ve : 1 \n",
            "tasted : 1 \n",
            "of : 2 \n",
            "desire : 1 \n",
            "i : 3 \n",
            "hold : 1 \n",
            "with : 1 \n",
            "those : 1 \n",
            "who : 1 \n",
            "favor : 1 \n",
            "fire. : 1 \n",
            "but : 1 \n",
            "if : 1 \n",
            "it : 1 \n",
            "had : 1 \n",
            "to : 2 \n",
            "perish : 1 \n",
            "twice, : 1 \n",
            "think : 1 \n",
            "know : 1 \n",
            "enough : 1 \n",
            "hate : 1 \n",
            "that : 1 \n",
            "for : 1 \n",
            "destruction : 1 \n",
            "ice : 1 \n",
            "is : 1 \n",
            "also : 1 \n",
            "great : 1 \n",
            "and : 1 \n",
            "would : 1 \n",
            "suffice. : 1 \n"
          ]
        }
      ],
      "source": [
        "poem = \"\"\"Some say the world will end in fire,\n",
        "Some say in ice.\n",
        "From what I’ve tasted of desire\n",
        "I hold with those who favor fire.\n",
        "But if it had to perish twice,\n",
        "I think I know enough of hate\n",
        "To say that for destruction ice\n",
        "Is also great\n",
        "And would suffice.\"\"\"\n",
        "\n",
        "# Your code here:\n",
        "\n",
        "poem1 = [word.strip(\" \") for word in poem.lower().split()]\n",
        "poem1\n",
        "\n",
        "def word_frequency (text):\n",
        "  words_dict ={}\n",
        "  for word in poem1:\n",
        "    words_dict[word] = words_dict.get(word,0)+1\n",
        "  for key in words_dict:\n",
        "    print(\"{} : {} \".format(key,words_dict[key]))\n",
        "\n",
        "word_frequency(poem1)\n"
      ]
    },
    {
      "cell_type": "markdown",
      "metadata": {
        "id": "8MRSd2aa2bS4"
      },
      "source": [
        "In the cell below, find all the words that appear in the text and do not appear in the blacklist. You must parse the string but can choose any data structure you wish for the words that do not appear in the blacklist. Remove all non letter characters and convert all words to lower case."
      ]
    },
    {
      "cell_type": "code",
      "execution_count": 77,
      "metadata": {
        "colab": {
          "base_uri": "https://localhost:8080/"
        },
        "id": "bowBO0Rt2bS5",
        "outputId": "2f05f6ac-5b7d-46fc-efb4-c2fb453b846c"
      },
      "outputs": [
        {
          "output_type": "stream",
          "name": "stdout",
          "text": [
            "words that are in blacklist but are not in the poem ['as', 'a']\n"
          ]
        }
      ],
      "source": [
        "blacklist = ['and', 'as', 'an', 'a', 'the', 'in', 'it']\n",
        "\n",
        "poem = \"\"\"I was angry with my friend; \n",
        "I told my wrath, my wrath did end.\n",
        "I was angry with my foe: \n",
        "I told it not, my wrath did grow. \n",
        "\n",
        "And I waterd it in fears,\n",
        "Night & morning with my tears: \n",
        "And I sunned it with smiles,\n",
        "And with soft deceitful wiles. \n",
        "\n",
        "And it grew both day and night. \n",
        "Till it bore an apple bright. \n",
        "And my foe beheld it shine,\n",
        "And he knew that it was mine. \n",
        "\n",
        "And into my garden stole, \n",
        "When the night had veild the pole; \n",
        "In the morning glad I see; \n",
        "My foe outstretched beneath the tree.\"\"\"\n",
        "\n",
        "# Your code here:\n",
        "\n",
        "poem_1 = [word.strip(\" ;:,.\") for word in poem.lower().split()]\n",
        "other_than_blacklist_words = []\n",
        "\n",
        "for word in blacklist:\n",
        "  if word not in poem_1:\n",
        "    other_than_blacklist_words.append(word)\n",
        "print(\"words that are in blacklist but are not in the poem\",other_than_blacklist_words)\n"
      ]
    },
    {
      "cell_type": "markdown",
      "metadata": {
        "id": "xq0FGU_22bS6"
      },
      "source": [
        "# Challenge 3 - Regular Expressions\n",
        "\n",
        "Sometimes, we would like to perform more complex manipulations of our string. This is where regular expressions come in handy. In the cell below, return all characters that are upper case from the string specified below."
      ]
    },
    {
      "cell_type": "code",
      "execution_count": 82,
      "metadata": {
        "colab": {
          "base_uri": "https://localhost:8080/"
        },
        "id": "jJPqkacl2bS6",
        "outputId": "bc60930a-554b-4eee-8275-f756bea11385"
      },
      "outputs": [
        {
          "output_type": "stream",
          "name": "stdout",
          "text": [
            "[]\n"
          ]
        }
      ],
      "source": [
        "import re\n",
        "\n",
        "poem = \"\"\"The apparition of these faces in the crowd;\n",
        "Petals on a wet, black bough.\"\"\"\n",
        "\n",
        "# Your code here:\n",
        "import re\n",
        "upper_letters_poem = re.findall('A-Z',poem)\n",
        "\n",
        "print(upper_letters_poem)\n"
      ]
    },
    {
      "cell_type": "markdown",
      "metadata": {
        "id": "k-Lk706h2bS7"
      },
      "source": [
        "In the cell below, filter the list provided and return all elements of the list containing a number. To filter the list, use the `re.search` function. Check if the function does not return `None`. You can read more about the `re.search` function [here](https://docs.python.org/3/library/re.html)."
      ]
    },
    {
      "cell_type": "code",
      "execution_count": 102,
      "metadata": {
        "colab": {
          "base_uri": "https://localhost:8080/"
        },
        "id": "9NE4Y7z12bS7",
        "outputId": "4151b017-c853-4282-967e-218a5ca1c736"
      },
      "outputs": [
        {
          "output_type": "stream",
          "name": "stdout",
          "text": [
            "123abc\n",
            "abc123\n",
            "JohnSmith1\n",
            "ABBY4\n",
            "None\n"
          ]
        }
      ],
      "source": [
        "data = ['123abc', 'abc123', 'JohnSmith1', 'ABBY4', 'JANE']\n",
        "\n",
        "# Your code here:\n",
        "for element in data:\n",
        "  x = re.search('[0-9]', element)\n",
        "  if x:\n",
        "    print(x.string)\n",
        "  else:\n",
        "    print(x)\n",
        "\n",
        "#the function returns one 'none; as one element in the list has no number"
      ]
    },
    {
      "cell_type": "markdown",
      "metadata": {
        "id": "xZ74uU8D2bS8"
      },
      "source": [
        "# Bonus Challenge - Regular Expressions II\n",
        "\n",
        "In the cell below, filter the list provided to keep only strings containing at least one digit and at least one lower case letter. As in the previous question, use the `re.search` function and check that the result is not `None`.\n",
        "\n",
        "To read more about regular expressions, check out [this link](https://developers.google.com/edu/python/regular-expressions)."
      ]
    },
    {
      "cell_type": "code",
      "execution_count": 103,
      "metadata": {
        "colab": {
          "base_uri": "https://localhost:8080/"
        },
        "id": "dkNqZwdh2bS9",
        "outputId": "dcec5ea5-f478-4607-a2ab-1f0365b234fa"
      },
      "outputs": [
        {
          "output_type": "stream",
          "name": "stdout",
          "text": [
            "123abc\n",
            "abc123\n",
            "JohnSmith1\n"
          ]
        }
      ],
      "source": [
        "data = ['123abc', 'abc123', 'JohnSmith1', 'ABBY4', 'JANE']\n",
        "# Your code here:\n",
        "\n",
        "for a in data:\n",
        "  x = re.search('[0-9]'and '[a-z]',a)\n",
        "  if x:\n",
        "    print(x.string)\n",
        "\n"
      ]
    }
  ],
  "metadata": {
    "kernelspec": {
      "display_name": "Python 3",
      "language": "python",
      "name": "python3"
    },
    "language_info": {
      "codemirror_mode": {
        "name": "ipython",
        "version": 3
      },
      "file_extension": ".py",
      "mimetype": "text/x-python",
      "name": "python",
      "nbconvert_exporter": "python",
      "pygments_lexer": "ipython3",
      "version": "3.6.8"
    },
    "colab": {
      "provenance": []
    }
  },
  "nbformat": 4,
  "nbformat_minor": 0
}