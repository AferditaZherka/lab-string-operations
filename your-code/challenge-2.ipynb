{
  "cells": [
    {
      "cell_type": "markdown",
      "metadata": {
        "id": "x_j-2BW0b_FP"
      },
      "source": [
        "# Bag of Words Lab\n",
        "\n",
        "## Introduction\n",
        "\n",
        "**Bag of words (BoW)** is an important technique in text mining and [information retrieval](https://en.wikipedia.org/wiki/Information_retrieval). BoW uses term-frequency vectors to represent the content of text documents which makes it possible to use mathematics and computer programs to analyze and compare text documents.\n",
        "\n",
        "BoW contains the following information:\n",
        "\n",
        "1. A dictionary of all the terms (words) in the text documents. The terms are normalized in terms of the letter case (e.g. `Ironhack` => `ironhack`), tense (e.g. `had` => `have`), singular form (e.g. `students` => `student`), etc.\n",
        "1. The number of occurrences of each normalized term in each document.\n",
        "\n",
        "For example, assume we have three text documents:\n",
        "\n",
        "DOC 1: **Ironhack is cool.**\n",
        "\n",
        "DOC 2: **I love Ironhack.**\n",
        "\n",
        "DOC 3: **I am a student at Ironhack.**\n",
        "\n",
        "The BoW of the above documents looks like below:\n",
        "\n",
        "| TERM | DOC 1 | DOC 2 | Doc 3 |\n",
        "|---|---|---|---|\n",
        "| a | 0 | 0 | 1 |\n",
        "| am | 0 | 0 | 1 |\n",
        "| at | 0 | 0 | 1 |\n",
        "| cool | 1 | 0 | 0 |\n",
        "| i | 0 | 1 | 1 |\n",
        "| ironhack | 1 | 1 | 1 |\n",
        "| is | 1 | 0 | 0 |\n",
        "| love | 0 | 1 | 0 |\n",
        "| student | 0 | 0 | 1 |\n",
        "\n",
        "\n",
        "The term-frequency array of each document in BoW can be considered a high-dimensional vector. Data scientists use these vectors to represent the content of the documents. For instance, DOC 1 is represented with `[0, 0, 0, 1, 0, 1, 1, 0, 0]`, DOC 2 is represented with `[0, 0, 0, 0, 1, 1, 0, 1, 0]`, and DOC 3 is represented with `[1, 1, 1, 0, 1, 1, 0, 0, 1]`. **Two documents are considered identical if their vector representations have close [cosine similarity](https://en.wikipedia.org/wiki/Cosine_similarity).**\n",
        "\n",
        "In real practice there are many additional techniques to improve the text mining accuracy such as using [stop words](https://en.wikipedia.org/wiki/Stop_words) (i.e. neglecting common words such as `a`, `I`, `to` that don't contribute much meaning), synonym list (e.g. consider `New York City` the same as `NYC` and `Big Apple`), and HTML tag removal if the data sources are webpages. In Module 3 you will learn how to use those advanced techniques for [natural language processing](https://en.wikipedia.org/wiki/Natural_language_processing), a component of text mining.\n",
        "\n",
        "In real text mining projects data analysts use packages such as Scikit-Learn and NLTK, which you will learn in Module 3, to extract BoW from texts. In this exercise, however, we would like you to create BoW manually with Python. This is because by manually creating BoW you can better understand the concept and also practice the Python skills you have learned so far."
      ]
    },
    {
      "cell_type": "markdown",
      "metadata": {
        "id": "-7sR3pgcb_FV"
      },
      "source": [
        "## The Challenge\n",
        "\n",
        "We need to create a BoW from a list of documents. The documents (`doc1.txt`, `doc2.txt`, and `doc3.txt`) can be found in the `your-code` directory of this exercise. You will read the content of each document into an array of strings named `corpus`.\n",
        "\n",
        "*What is a corpus (plural: corpora)? Read the reference in the README file.*\n",
        "\n",
        "Your challenge is to use Python to generate the BoW of these documents. Your BoW should look like below:\n",
        "\n",
        "```python\n",
        "bag_of_words = ['a', 'am', 'at', 'cool', 'i', 'ironhack', 'is', 'love', 'student']\n",
        "\n",
        "term_freq = [\n",
        "    [0, 0, 0, 1, 0, 1, 1, 0, 0],\n",
        "    [0, 0, 0, 0, 1, 1, 0, 1, 0],\n",
        "    [1, 1, 1, 0, 1, 1, 0, 0, 1],\n",
        "]\n",
        "```\n",
        "\n",
        "Now let's define the `docs` array that contains the paths of `doc1.txt`, `doc2.txt`, and `doc3.txt`."
      ]
    },
    {
      "cell_type": "code",
      "execution_count": 3,
      "metadata": {
        "id": "IHL2hBGEb_FX"
      },
      "outputs": [],
      "source": [
        "docs = ['doc1.txt', 'doc2.txt', 'doc3.txt']\n"
      ]
    },
    {
      "cell_type": "markdown",
      "metadata": {
        "id": "VaK85urYb_FZ"
      },
      "source": [
        "Define an empty array `corpus` that will contain the content strings of the docs. Loop `docs` and read the content of each doc into the `corpus` array."
      ]
    },
    {
      "cell_type": "code",
      "execution_count": 10,
      "metadata": {
        "colab": {
          "base_uri": "https://localhost:8080/"
        },
        "id": "LZb5aO0-b_FZ",
        "outputId": "db8f84cf-4429-4f93-d431-abcd4f9b7d63"
      },
      "outputs": [
        {
          "output_type": "stream",
          "name": "stdout",
          "text": [
            "['Ironhack is cool.']\n",
            "['I love Ironhack.']\n",
            "['I am a student at Ironhack.']\n"
          ]
        }
      ],
      "source": [
        "# Write your code here\n",
        "import numpy as np\n",
        "\n",
        "with open('doc1.txt','r') as doc1:\n",
        "  doc_1 = doc1.readlines()\n",
        "print(doc_1)\n",
        "\n",
        "with open('doc2.txt','r') as doc2:\n",
        "  doc_2 = doc2.readlines()\n",
        "print(doc_2)\n",
        "\n",
        "with open('doc3.txt','r') as doc3:\n",
        "  doc_3 = doc3.readlines()\n",
        "print(doc_3)\n",
        "\n",
        "all_docs = doc_1 + doc_2 + doc_3\n",
        "corpus = np.array(all_docs)"
      ]
    },
    {
      "cell_type": "markdown",
      "metadata": {
        "id": "L4HjHS3Tb_FZ"
      },
      "source": [
        "Print `corpus`."
      ]
    },
    {
      "cell_type": "code",
      "execution_count": 11,
      "metadata": {
        "colab": {
          "base_uri": "https://localhost:8080/"
        },
        "id": "Uu0DALt4b_Fa",
        "outputId": "0fedf7bf-dc44-4fb2-cafe-e2a74ca1b60f"
      },
      "outputs": [
        {
          "output_type": "stream",
          "name": "stdout",
          "text": [
            "['Ironhack is cool.' 'I love Ironhack.' 'I am a student at Ironhack.']\n"
          ]
        }
      ],
      "source": [
        "print(corpus)"
      ]
    },
    {
      "cell_type": "markdown",
      "metadata": {
        "id": "Okkc8KrWb_Fa"
      },
      "source": [
        "You expected to see:\n",
        "\n",
        "```['ironhack is cool', 'i love ironhack', 'i am a student at ironhack']```\n",
        "\n",
        "But you actually saw:\n",
        "\n",
        "```['Ironhack is cool.', 'I love Ironhack.', 'I am a student at Ironhack.']```\n",
        "\n",
        "This is because you haven't done two important steps:\n",
        "\n",
        "1. Remove punctuation from the strings\n",
        "\n",
        "1. Convert strings to lowercase\n",
        "\n",
        "Write your code below to process `corpus` (convert to lower case and remove special characters)."
      ]
    },
    {
      "cell_type": "code",
      "execution_count": 29,
      "metadata": {
        "colab": {
          "base_uri": "https://localhost:8080/"
        },
        "id": "zl64pH4Nb_Fa",
        "outputId": "b1f82f89-60ef-4685-d814-1e356782ed88"
      },
      "outputs": [
        {
          "output_type": "stream",
          "name": "stdout",
          "text": [
            "['ironhack is cool' 'i love ironhack' 'i am a student at ironhack']\n"
          ]
        }
      ],
      "source": [
        "import string\n",
        "import re\n",
        "import numpy as np\n",
        "\n",
        "all_docs = str(all_docs).lower().replace(\",\",\"\")\n",
        "corpus = np.array(all_docs)\n",
        "\n",
        "print(corpus)"
      ]
    },
    {
      "cell_type": "markdown",
      "metadata": {
        "id": "fvc21R2Vb_Fb"
      },
      "source": [
        "Now define `bag_of_words` as an empty array. It will be used to store the unique terms in `corpus`."
      ]
    },
    {
      "cell_type": "code",
      "execution_count": 70,
      "metadata": {
        "colab": {
          "base_uri": "https://localhost:8080/"
        },
        "id": "gWqqPQvxb_Fb",
        "outputId": "1718d87f-1166-48e7-cd7e-8413fa4857d8"
      },
      "outputs": [
        {
          "output_type": "stream",
          "name": "stdout",
          "text": [
            "[]\n"
          ]
        }
      ],
      "source": [
        "#you mean list, right?\n",
        "bag_of_words = []\n",
        "print(bag_of_words)"
      ]
    },
    {
      "cell_type": "markdown",
      "metadata": {
        "id": "fQ_q8YJVb_Fc"
      },
      "source": [
        "Loop through `corpus`. In each loop, do the following:\n",
        "\n",
        "1. Break the string into an array of terms. \n",
        "1. Create a sub-loop to iterate the terms array. \n",
        "  * In each sub-loop, you'll check if the current term is already contained in `bag_of_words`. If not in `bag_of_words`, append it to the array."
      ]
    },
    {
      "cell_type": "code",
      "execution_count": 72,
      "metadata": {
        "colab": {
          "base_uri": "https://localhost:8080/"
        },
        "id": "H4kXt5EEb_Fc",
        "outputId": "fa9a6479-7625-4103-814f-8cd5eff9db23"
      },
      "outputs": [
        {
          "output_type": "execute_result",
          "data": {
            "text/plain": [
              "['ironhack', 'is', 'cool', 'i', 'love', 'am', 'a', 'student', 'at']"
            ]
          },
          "metadata": {},
          "execution_count": 72
        }
      ],
      "source": [
        "# Write your code here\n",
        "string_corpus = re.sub('[%s]'%re.escape(string.punctuation), '',string_corpus)\n",
        "list_corpus = string_corpus.split()\n",
        "list_corpus\n",
        "\n",
        "for word in list_corpus:\n",
        "  if word not in bag_of_words:\n",
        "    bag_of_words.append(word)\n",
        "bag_of_words\n",
        "\n"
      ]
    },
    {
      "cell_type": "markdown",
      "metadata": {
        "id": "Z3ZRcdi5b_Fc"
      },
      "source": [
        "Print `bag_of_words`. You should see: \n",
        "\n",
        "```['ironhack', 'is', 'cool', 'i', 'love', 'am', 'a', 'student', 'at']```\n",
        "\n",
        "If not, fix your code in the previous cell."
      ]
    },
    {
      "cell_type": "code",
      "execution_count": null,
      "metadata": {
        "id": "5XF4Fb5Bb_Fd"
      },
      "outputs": [],
      "source": [
        "# Write your code here\n"
      ]
    },
    {
      "cell_type": "markdown",
      "metadata": {
        "id": "O_qLqz5sb_Fd"
      },
      "source": [
        "Now we define an empty array called `term_freq`. Loop `corpus` for a second time. In each loop, create a sub-loop to iterate the terms in `bag_of_words`. Count how many times each term appears in each doc of `corpus`. Append the term-frequency array to `term_freq`."
      ]
    },
    {
      "cell_type": "code",
      "execution_count": 76,
      "metadata": {
        "colab": {
          "base_uri": "https://localhost:8080/"
        },
        "id": "2_E_wx5Eb_Fd",
        "outputId": "f4fb725a-07d8-429b-c0de-9fe22ba9c498"
      },
      "outputs": [
        {
          "output_type": "execute_result",
          "data": {
            "text/plain": [
              "[1, 1, 1, 1, 1, 1, 1, 1, 1, 1, 1, 1]"
            ]
          },
          "metadata": {},
          "execution_count": 76
        }
      ],
      "source": [
        "# Write your code here\n",
        "term_freq=[]\n",
        "\n",
        "for word in list_corpus:\n",
        "  if word in bag_of_words:\n",
        "    term_freq.append(1)\n",
        "  else:\n",
        "    term_freq.append(0)\n",
        "term_freq\n"
      ]
    },
    {
      "cell_type": "markdown",
      "metadata": {
        "id": "owoazwKfb_Fe"
      },
      "source": [
        "Print `term_freq`. You should see:\n",
        "\n",
        "```[[1, 1, 1, 0, 0, 0, 0, 0, 0], [1, 0, 0, 1, 1, 0, 0, 0, 0], [1, 0, 0, 1, 0, 1, 1, 1, 1]]```"
      ]
    },
    {
      "cell_type": "code",
      "execution_count": null,
      "metadata": {
        "id": "tY4Z3CN3b_Fe"
      },
      "outputs": [],
      "source": [
        "#NO WAY!"
      ]
    },
    {
      "cell_type": "markdown",
      "metadata": {
        "id": "tF4j-9Sdb_Fe"
      },
      "source": [
        "**If your output is correct, congratulations! You've solved the challenge!**\n",
        "\n",
        "If not, go back and check for errors in your code."
      ]
    },
    {
      "cell_type": "markdown",
      "metadata": {
        "id": "4yPSGdw5b_Ff"
      },
      "source": [
        "## Bonus Question\n",
        "\n",
        "Now you want to improve your previous solution by removing the stop words from the corpus. The idea is you only want to add terms that are not in the `stop_words` list to the `bag_of_words` array.\n",
        "\n",
        "Requirements:\n",
        "\n",
        "1. Move all your previous codes from `main.ipynb` to the cell below.\n",
        "1. Improve your solution by ignoring stop words in `bag_of_words`.\n",
        "\n",
        "After you're done, your `bag_of_words` should be:\n",
        "\n",
        "```['ironhack', 'cool', 'love', 'student']```\n",
        "\n",
        "And your `term_freq` should be:\n",
        "\n",
        "```[[1, 1, 0, 0], [1, 0, 1, 0], [1, 0, 0, 1]]```"
      ]
    },
    {
      "cell_type": "code",
      "execution_count": null,
      "metadata": {
        "id": "lCGteSJCb_Ff"
      },
      "outputs": [],
      "source": [
        "stop_words = ['all', 'six', 'less', 'being', 'indeed', 'over', 'move', 'anyway', 'fifty', 'four', 'not', 'own', 'through', 'yourselves', 'go', 'where', 'mill', 'only', 'find', 'before', 'one', 'whose', 'system', 'how', 'somewhere', 'with', 'thick', 'show', 'had', 'enough', 'should', 'to', 'must', 'whom', 'seeming', 'under', 'ours', 'has', 'might', 'thereafter', 'latterly', 'do', 'them', 'his', 'around', 'than', 'get', 'very', 'de', 'none', 'cannot', 'every', 'whether', 'they', 'front', 'during', 'thus', 'now', 'him', 'nor', 'name', 'several', 'hereafter', 'always', 'who', 'cry', 'whither', 'this', 'someone', 'either', 'each', 'become', 'thereupon', 'sometime', 'side', 'two', 'therein', 'twelve', 'because', 'often', 'ten', 'our', 'eg', 'some', 'back', 'up', 'namely', 'towards', 'are', 'further', 'beyond', 'ourselves', 'yet', 'out', 'even', 'will', 'what', 'still', 'for', 'bottom', 'mine', 'since', 'please', 'forty', 'per', 'its', 'everything', 'behind', 'un', 'above', 'between', 'it', 'neither', 'seemed', 'ever', 'across', 'she', 'somehow', 'be', 'we', 'full', 'never', 'sixty', 'however', 'here', 'otherwise', 'were', 'whereupon', 'nowhere', 'although', 'found', 'alone', 're', 'along', 'fifteen', 'by', 'both', 'about', 'last', 'would', 'anything', 'via', 'many', 'could', 'thence', 'put', 'against', 'keep', 'etc', 'amount', 'became', 'ltd', 'hence', 'onto', 'or', 'con', 'among', 'already', 'co', 'afterwards', 'formerly', 'within', 'seems', 'into', 'others', 'while', 'whatever', 'except', 'down', 'hers', 'everyone', 'done', 'least', 'another', 'whoever', 'moreover', 'couldnt', 'throughout', 'anyhow', 'yourself', 'three', 'from', 'her', 'few', 'together', 'top', 'there', 'due', 'been', 'next', 'anyone', 'eleven', 'much', 'call', 'therefore', 'interest', 'then', 'thru', 'themselves', 'hundred', 'was', 'sincere', 'empty', 'more', 'himself', 'elsewhere', 'mostly', 'on', 'fire', 'am', 'becoming', 'hereby', 'amongst', 'else', 'part', 'everywhere', 'too', 'herself', 'former', 'those', 'he', 'me', 'myself', 'made', 'twenty', 'these', 'bill', 'cant', 'us', 'until', 'besides', 'nevertheless', 'below', 'anywhere', 'nine', 'can', 'of', 'your', 'toward', 'my', 'something', 'and', 'whereafter', 'whenever', 'give', 'almost', 'wherever', 'is', 'describe', 'beforehand', 'herein', 'an', 'as', 'itself', 'at', 'have', 'in', 'seem', 'whence', 'ie', 'any', 'fill', 'again', 'hasnt', 'inc', 'thereby', 'thin', 'no', 'perhaps', 'latter', 'meanwhile', 'when', 'detail', 'same', 'wherein', 'beside', 'also', 'that', 'other', 'take', 'which', 'becomes', 'you', 'if', 'nobody', 'see', 'though', 'may', 'after', 'upon', 'most', 'hereupon', 'eight', 'but', 'serious', 'nothing', 'such', 'why', 'a', 'off', 'whereby', 'third', 'i', 'whole', 'noone', 'sometimes', 'well', 'amoungst', 'yours', 'their', 'rather', 'without', 'so', 'five', 'the', 'first', 'whereas', 'once']\n",
        "\n",
        "# Write your code below\n"
      ]
    },
    {
      "cell_type": "markdown",
      "metadata": {
        "id": "7f4Na_1-b_Ff"
      },
      "source": [
        "## Additional Challenge for the Nerds\n",
        "\n",
        "We will learn Scikit-Learn in Module 3 which has built in the BoW feature. Try to use Scikit-Learn to generate the BoW for this challenge and check whether the output is the same as yours. You will need to do some googling to find out how to use Scikit-Learn to generate BoW.\n",
        "\n",
        "**Notes:**\n",
        "\n",
        "* To install Scikit-Learn, use `pip install sklearn`. \n",
        "\n",
        "* Scikit-Learn removes stop words by default. You don't need to manually remove stop words.\n",
        "\n",
        "* Scikit-Learn's output has slightly different format from the output example demonstrated above. It's ok, you don't need to convert the Scikit-Learn output.\n",
        "\n",
        "The Scikit-Learn output will look like below:\n",
        "\n",
        "```python\n",
        "# BoW:\n",
        "{u'love': 5, u'ironhack': 3, u'student': 6, u'is': 4, u'cool': 2, u'am': 0, u'at': 1}\n",
        "\n",
        "# term_freq:\n",
        "[[0 0 1 1 1 0 0]\n",
        " [0 0 0 1 0 1 0]\n",
        " [1 1 0 1 0 0 1]]\n",
        " ```"
      ]
    },
    {
      "cell_type": "code",
      "execution_count": null,
      "metadata": {
        "id": "QFN4Kc3zb_Fg"
      },
      "outputs": [],
      "source": []
    }
  ],
  "metadata": {
    "kernelspec": {
      "display_name": "Python 3",
      "language": "python",
      "name": "python3"
    },
    "language_info": {
      "codemirror_mode": {
        "name": "ipython",
        "version": 3
      },
      "file_extension": ".py",
      "mimetype": "text/x-python",
      "name": "python",
      "nbconvert_exporter": "python",
      "pygments_lexer": "ipython3",
      "version": "3.6.8"
    },
    "colab": {
      "provenance": []
    }
  },
  "nbformat": 4,
  "nbformat_minor": 0
}